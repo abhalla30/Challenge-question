{
  "nbformat": 4,
  "nbformat_minor": 0,
  "metadata": {
    "colab": {
      "provenance": [],
      "authorship_tag": "ABX9TyP+e+9K+/XBhNZxoHM9t3ET",
      "include_colab_link": true
    },
    "kernelspec": {
      "name": "python3",
      "display_name": "Python 3"
    },
    "language_info": {
      "name": "python"
    }
  },
  "cells": [
    {
      "cell_type": "markdown",
      "metadata": {
        "id": "view-in-github",
        "colab_type": "text"
      },
      "source": [
        "<a href=\"https://colab.research.google.com/github/abhalla30/Challenge-question/blob/main/Untitled4.ipynb\" target=\"_parent\"><img src=\"https://colab.research.google.com/assets/colab-badge.svg\" alt=\"Open In Colab\"/></a>"
      ]
    },
    {
      "cell_type": "code",
      "execution_count": 2,
      "metadata": {
        "colab": {
          "base_uri": "https://localhost:8080/"
        },
        "id": "O1foEhiHRxPP",
        "outputId": "a491e3d1-34bf-4b0c-e697-f0df71cfa304"
      },
      "outputs": [
        {
          "output_type": "stream",
          "name": "stdout",
          "text": [
            "Original list: ['Ram', 1, 'Shyam', 2, 'Aman', 3]\n",
            "Sorted list (strings first): ['Aman', 'Ram', 'Shyam', 1, 2, 3]\n"
          ]
        }
      ],
      "source": [
        "L = [\"Ram\", 1, \"Shyam\", 2, \"Aman\", 3]\n",
        "\n",
        "print(\"Original list:\", L)\n",
        "\n",
        "# Separate strings and numbers\n",
        "str_items = sorted([x for x in L if isinstance(x, str)])\n",
        "num_items = sorted([x for x in L if isinstance(x, (int, float))])\n",
        "\n",
        "# Combine them with strings first\n",
        "sorted_list = str_items + num_items\n",
        "\n",
        "print(\"Sorted list (strings first):\", sorted_list)\n"
      ]
    }
  ]
}